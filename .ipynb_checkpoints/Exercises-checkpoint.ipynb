{
 "cells": [
  {
   "cell_type": "markdown",
   "id": "974e9f59",
   "metadata": {},
   "source": [
    "# Variables and Data Types"
   ]
  },
  {
   "cell_type": "markdown",
   "id": "88473c54",
   "metadata": {},
   "source": [
    "Put your full name and age into variables called `name` and `age` respectively"
   ]
  },
  {
   "cell_type": "code",
   "execution_count": 1,
   "id": "e77cf564",
   "metadata": {},
   "outputs": [],
   "source": [
    "name = \"Pasindu Samaranayake\"\n",
    "age = 24"
   ]
  },
  {
   "cell_type": "markdown",
   "id": "2fd4a1d0",
   "metadata": {},
   "source": [
    "Use the `print` function to show your name and age in a nice way"
   ]
  },
  {
   "cell_type": "code",
   "execution_count": 2,
   "id": "7895ea03",
   "metadata": {},
   "outputs": [
    {
     "name": "stdout",
     "output_type": "stream",
     "text": [
      "Pasindu Samaranayake\n",
      "24\n"
     ]
    }
   ],
   "source": [
    "print(name)\n",
    "print(age)"
   ]
  },
  {
   "cell_type": "markdown",
   "id": "b23dd8c2",
   "metadata": {},
   "source": [
    "Use slicing to extract your first name and last name from your name and put them into variables called `firstname` and `lastname` respectively"
   ]
  },
  {
   "cell_type": "code",
   "execution_count": 3,
   "id": "ea0b5cd4",
   "metadata": {},
   "outputs": [
    {
     "name": "stdout",
     "output_type": "stream",
     "text": [
      "Pasindu\n"
     ]
    }
   ],
   "source": [
    "firstname = name.split(\" \")[0]\n",
    "lastname = name.split(\" \")[1]\n",
    "print(firstname)"
   ]
  },
  {
   "cell_type": "markdown",
   "id": "c6a709c1",
   "metadata": {},
   "source": [
    "Use slicing to show the reverse copy of your first name and last name"
   ]
  },
  {
   "cell_type": "code",
   "execution_count": 22,
   "id": "0109f6fe",
   "metadata": {},
   "outputs": [
    {
     "data": {
      "text/plain": [
       "'udnisaP'"
      ]
     },
     "execution_count": 22,
     "metadata": {},
     "output_type": "execute_result"
    }
   ],
   "source": [
    "\"\".join(list(firstname)[-1::-1])"
   ]
  },
  {
   "cell_type": "code",
   "execution_count": 23,
   "id": "d9ea5810",
   "metadata": {},
   "outputs": [
    {
     "name": "stdout",
     "output_type": "stream",
     "text": [
      "I am Pasindu Samaranayake\n"
     ]
    }
   ],
   "source": [
    "print(f'I am {name}')"
   ]
  },
  {
   "cell_type": "markdown",
   "id": "c0607742",
   "metadata": {},
   "source": [
    "Create a list containing your first name and last name from your previously created variables"
   ]
  },
  {
   "cell_type": "code",
   "execution_count": 12,
   "id": "7bc6bfc4",
   "metadata": {},
   "outputs": [],
   "source": [
    "name_list = [firstname,lastname]"
   ]
  },
  {
   "cell_type": "markdown",
   "id": "e24a2d8d",
   "metadata": {},
   "source": [
    "# Making Decisions"
   ]
  },
  {
   "cell_type": "markdown",
   "id": "ae87c9ef",
   "metadata": {},
   "source": [
    "Show 'You are too old!' if your age is bigger than 20 and show 'You are too young!' otherwise"
   ]
  },
  {
   "cell_type": "code",
   "execution_count": 13,
   "id": "3699017c",
   "metadata": {},
   "outputs": [
    {
     "name": "stdout",
     "output_type": "stream",
     "text": [
      "You are too old\n"
     ]
    }
   ],
   "source": [
    "print(\"You are too old\") if age>20 else print(\"You are too young\")"
   ]
  },
  {
   "cell_type": "markdown",
   "id": "d10e4dcb",
   "metadata": {},
   "source": [
    "Show 'You are a troublesome teenager.' if your age is between 11 to 16 inclusive"
   ]
  },
  {
   "cell_type": "code",
   "execution_count": 14,
   "id": "93c23d27",
   "metadata": {},
   "outputs": [
    {
     "name": "stdout",
     "output_type": "stream",
     "text": [
      "You are too old\n"
     ]
    }
   ],
   "source": [
    "if age>20:\n",
    "    print(\"You are too old\")\n",
    "elif age>11 and age<16:\n",
    "    print(\"You are a trouble some teenager\")\n",
    "else:\n",
    "    print(\"You are too young\")"
   ]
  },
  {
   "cell_type": "markdown",
   "id": "2b80493e",
   "metadata": {},
   "source": [
    "Show the English words of your age (assuming it is between 1 to 29), for example, 12 becomes Twelve, 20 becomes Twenty, 25 becomes Twenty five and so on"
   ]
  },
  {
   "cell_type": "code",
   "execution_count": 25,
   "id": "450a3529",
   "metadata": {},
   "outputs": [
    {
     "data": {
      "text/plain": [
       "2"
      ]
     },
     "execution_count": 25,
     "metadata": {},
     "output_type": "execute_result"
    }
   ],
   "source": [
    "L = [42,5,7,42]\n",
    "len([i for i in L if i == 42])"
   ]
  },
  {
   "cell_type": "markdown",
   "id": "d5c65cfc",
   "metadata": {},
   "source": [
    "# Looping"
   ]
  },
  {
   "cell_type": "code",
   "execution_count": 15,
   "id": "265af31c",
   "metadata": {
    "scrolled": true
   },
   "outputs": [
    {
     "data": {
      "image/png": "[encoded data removed]",
      "text/plain": [
       "<Figure size 432x288 with 1 Axes>"
      ]
     },
     "metadata": {
      "needs_background": "light"
     },
     "output_type": "display_data"
    }
   ],
   "source": [
    "import matplotlib.pyplot as plt\n",
    "plt.plot([0, 1], [0, 1])\n",
    "plt.show()"
   ]
  },
  {
   "cell_type": "markdown",
   "id": "aa3f9e67",
   "metadata": {},
   "source": [
    "Refer to the above code and use a variable `x` to store the x values `[0, 1]` and a variable `y` to store the y values `[0, 1]`"
   ]
  },
  {
   "cell_type": "code",
   "execution_count": 16,
   "id": "6fee1ea1",
   "metadata": {},
   "outputs": [
    {
     "data": {
      "image/png": "[encoded data removed]",
      "text/plain": [
       "<Figure size 432x288 with 1 Axes>"
      ]
     },
     "metadata": {
      "needs_background": "light"
     },
     "output_type": "display_data"
    }
   ],
   "source": [
    "x = [0,1]\n",
    "y = [0,1]\n",
    "import matplotlib.pyplot as plt\n",
    "plt.plot(x, y)\n",
    "plt.show()"
   ]
  },
  {
   "cell_type": "markdown",
   "id": "6d69acdb",
   "metadata": {},
   "source": [
    "Change the plot but this time the x values have 21 numbers starting from 0 to 20 and the y values have 21 numbers starting from 20 to 40"
   ]
  },
  {
   "cell_type": "code",
   "execution_count": 26,
   "id": "a46d0154",
   "metadata": {},
   "outputs": [
    {
     "data": {
      "image/png": "[encoded data removed]",
      "text/plain": [
       "<Figure size 432x288 with 1 Axes>"
      ]
     },
     "metadata": {
      "needs_background": "light"
     },
     "output_type": "display_data"
    }
   ],
   "source": [
    "x = list(range(21))\n",
    "y = [i**2 for i in range(21)]\n",
    "import matplotlib.pyplot as plt\n",
    "plt.plot(x, y)\n",
    "plt.show()"
   ]
  },
  {
   "cell_type": "markdown",
   "id": "c320f078",
   "metadata": {},
   "source": [
    "Change the plot further to show the plot of $y = x^{2} + 2x + 1$ where $-4 \\leq x < 4$\n",
    "You can do that by:\n",
    "- using a for loop to create the lists `x` and `y` with 100 samples\n",
    "- using only list comprehension from the given `index` to create the list `x` and `y`"
   ]
  },
  {
   "cell_type": "code",
   "execution_count": null,
   "id": "37e25d6d",
   "metadata": {},
   "outputs": [],
   "source": [
    "index = range(0, 100)\n",
    "x = \n",
    "y = \n",
    "import matplotlib.pyplot as plt\n",
    "plt.plot(x, y)\n",
    "plt.show()"
   ]
  }
 ],
 "metadata": {
  "kernelspec": {
   "display_name": "Python 3",
   "language": "python",
   "name": "python3"
  },
  "language_info": {
   "codemirror_mode": {
    "name": "ipython",
    "version": 3
   },
   "file_extension": ".py",
   "mimetype": "text/x-python",
   "name": "python",
   "nbconvert_exporter": "python",
   "pygments_lexer": "ipython3",
   "version": "3.8.8"
  }
 },
 "nbformat": 4,
 "nbformat_minor": 5
}
