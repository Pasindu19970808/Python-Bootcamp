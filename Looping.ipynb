{
 "cells": [
  {
   "cell_type": "markdown",
   "id": "2c2389ea",
   "metadata": {},
   "source": [
    "## From Goofy to Loopy"
   ]
  },
  {
   "cell_type": "code",
   "execution_count": 1,
   "id": "42338cf7",
   "metadata": {},
   "outputs": [
    {
     "name": "stdout",
     "output_type": "stream",
     "text": [
      "55\n"
     ]
    }
   ],
   "source": [
    "\"\"\" This code shows the sum of the integers between 1 and 10. \"\"\"\n",
    "\n",
    "sum = 0 # Initialize a counter to 0\n",
    "\n",
    "for i in [1, 2, 3, 4, 5, 6, 7, 8, 9, 10]:\n",
    "    sum = sum + i # update the sum\n",
    "\n",
    "print(sum) # show the sum"
   ]
  },
  {
   "cell_type": "code",
   "execution_count": 2,
   "id": "6a4c8042",
   "metadata": {},
   "outputs": [
    {
     "data": {
      "text/plain": [
       "[1, 2, 3, 4, 5, 6, 7, 8, 9, 10]"
      ]
     },
     "execution_count": 2,
     "metadata": {},
     "output_type": "execute_result"
    }
   ],
   "source": [
    "list(range(1, 11))"
   ]
  },
  {
   "cell_type": "code",
   "execution_count": 3,
   "id": "ac954da9",
   "metadata": {},
   "outputs": [
    {
     "data": {
      "text/plain": [
       "[0, 1, 2, 3, 4]"
      ]
     },
     "execution_count": 3,
     "metadata": {},
     "output_type": "execute_result"
    }
   ],
   "source": [
    "list(range(0, 5))"
   ]
  },
  {
   "cell_type": "code",
   "execution_count": 4,
   "id": "0f2bb1e2",
   "metadata": {},
   "outputs": [
    {
     "data": {
      "text/plain": [
       "range(1, 6)"
      ]
     },
     "execution_count": 4,
     "metadata": {},
     "output_type": "execute_result"
    }
   ],
   "source": [
    "range(1, 6)"
   ]
  },
  {
   "cell_type": "code",
   "execution_count": 5,
   "id": "ddc5d2ce",
   "metadata": {},
   "outputs": [
    {
     "name": "stdout",
     "output_type": "stream",
     "text": [
      "55\n"
     ]
    }
   ],
   "source": [
    "\"\"\" This code shows the sum of the integers between 1 and 10. \"\"\"\n",
    "\n",
    "sum = 0 # Initialize a counter to 0\n",
    "\n",
    "for i in range(1, 11):\n",
    "    sum = sum + i # update the sum\n",
    "\n",
    "print(sum) # show the sum"
   ]
  },
  {
   "cell_type": "code",
   "execution_count": 6,
   "id": "69eb6602",
   "metadata": {},
   "outputs": [
    {
     "data": {
      "text/plain": [
       "[1, 3, 5, 7, 9]"
      ]
     },
     "execution_count": 6,
     "metadata": {},
     "output_type": "execute_result"
    }
   ],
   "source": [
    "list(range(1, 10, 2))"
   ]
  },
  {
   "cell_type": "code",
   "execution_count": 7,
   "id": "fd5c28b9",
   "metadata": {},
   "outputs": [
    {
     "data": {
      "text/plain": [
       "[0, 1, 2, 3, 4]"
      ]
     },
     "execution_count": 7,
     "metadata": {},
     "output_type": "execute_result"
    }
   ],
   "source": [
    "list(range(5))"
   ]
  },
  {
   "cell_type": "code",
   "execution_count": 8,
   "id": "9e122fa5",
   "metadata": {},
   "outputs": [],
   "source": [
    "mylist = [1, 2, 3]"
   ]
  },
  {
   "cell_type": "code",
   "execution_count": 9,
   "id": "adcd9833",
   "metadata": {},
   "outputs": [
    {
     "name": "stdout",
     "output_type": "stream",
     "text": [
      "6\n"
     ]
    }
   ],
   "source": [
    "\"\"\" Takes a list of numbers shows the sum\n",
    "    of the items in that list. \"\"\"\n",
    "\n",
    "sum = 0\n",
    "\n",
    "for number in mylist:\n",
    "    sum = sum + number\n",
    "\n",
    "print(sum)"
   ]
  },
  {
   "cell_type": "code",
   "execution_count": 10,
   "id": "0061c257",
   "metadata": {},
   "outputs": [],
   "source": [
    "L = [42, 5, 7, 42, 6]\n",
    "X = 42"
   ]
  },
  {
   "cell_type": "code",
   "execution_count": 11,
   "id": "bcd8de1e",
   "metadata": {},
   "outputs": [
    {
     "name": "stdout",
     "output_type": "stream",
     "text": [
      "2\n"
     ]
    }
   ],
   "source": [
    "\"\"\" Takes a list and an item, and shows the number\n",
    "    of times that the item is found in the list. \"\"\"\n",
    "\n",
    "counter = 0\n",
    "\n",
    "for item in L:\n",
    "    if item == X:\n",
    "        counter = counter + 1\n",
    "\n",
    "print(counter)"
   ]
  },
  {
   "cell_type": "code",
   "execution_count": 12,
   "id": "ba43e74c",
   "metadata": {},
   "outputs": [
    {
     "name": "stdout",
     "output_type": "stream",
     "text": [
      "2\n"
     ]
    }
   ],
   "source": [
    "\"\"\" Takes a list and an item, and shows the number\n",
    "    of times that the item is found in the list. \"\"\"\n",
    "\n",
    "counter = 0\n",
    "\n",
    "for i in range(0, len(L)):\n",
    "    if L[i] == X:\n",
    "        counter = counter + 1\n",
    "\n",
    "print(counter)"
   ]
  },
  {
   "cell_type": "markdown",
   "id": "d3b9184b",
   "metadata": {},
   "source": [
    "## While Loops"
   ]
  },
  {
   "cell_type": "code",
   "execution_count": 13,
   "id": "9de97764",
   "metadata": {},
   "outputs": [],
   "source": [
    "n = 20"
   ]
  },
  {
   "cell_type": "code",
   "execution_count": 14,
   "id": "9ff2d6c3",
   "metadata": {},
   "outputs": [
    {
     "name": "stdout",
     "output_type": "stream",
     "text": [
      "32\n"
     ]
    }
   ],
   "source": [
    "\"\"\" Takes a number n and shows the smallest power\n",
    "    of 2 that is greater than or equal to n.\"\"\"\n",
    "\n",
    "power = 1 # 1 is the smallest power of 2\n",
    "while power < n:\n",
    "    power = power * 2\n",
    "\n",
    "print(power)"
   ]
  },
  {
   "cell_type": "code",
   "execution_count": 15,
   "id": "e8da4a5a",
   "metadata": {},
   "outputs": [],
   "source": [
    "## List Comprehension"
   ]
  },
  {
   "cell_type": "code",
   "execution_count": 16,
   "id": "775d9769",
   "metadata": {},
   "outputs": [],
   "source": [
    "mynumbers = [1, 2, 3, 4, 5, 6, 7, 8, 9, 10]"
   ]
  },
  {
   "cell_type": "code",
   "execution_count": 17,
   "id": "f2655708",
   "metadata": {},
   "outputs": [
    {
     "name": "stdout",
     "output_type": "stream",
     "text": [
      "[1, 4, 9, 16, 25, 36, 49, 64, 81, 100]\n"
     ]
    }
   ],
   "source": [
    "\"\"\" Creates the squares of the numbers in a list \"\"\"\n",
    "squares = []\n",
    "\n",
    "for number in mynumbers:\n",
    "    squares.append(number * number)\n",
    "    \n",
    "print(squares)"
   ]
  },
  {
   "cell_type": "code",
   "execution_count": 18,
   "id": "789a8d1a",
   "metadata": {},
   "outputs": [
    {
     "data": {
      "text/plain": [
       "[1, 4, 9, 16, 25, 36, 49, 64, 81, 100]"
      ]
     },
     "execution_count": 18,
     "metadata": {},
     "output_type": "execute_result"
    }
   ],
   "source": [
    "[number * number for number in mynumbers]"
   ]
  },
  {
   "cell_type": "code",
   "execution_count": 19,
   "id": "88e2e3fb",
   "metadata": {},
   "outputs": [
    {
     "data": {
      "text/plain": [
       "[1, 4, 9, 16, 25]"
      ]
     },
     "execution_count": 19,
     "metadata": {},
     "output_type": "execute_result"
    }
   ],
   "source": [
    "[number * number for number in mynumbers if number < 6]"
   ]
  }
 ],
 "metadata": {
  "kernelspec": {
   "display_name": "Python 3",
   "language": "python",
   "name": "python3"
  },
  "language_info": {
   "codemirror_mode": {
    "name": "ipython",
    "version": 3
   },
   "file_extension": ".py",
   "mimetype": "text/x-python",
   "name": "python",
   "nbconvert_exporter": "python",
   "pygments_lexer": "ipython3",
   "version": "3.8.8"
  }
 },
 "nbformat": 4,
 "nbformat_minor": 5
}
