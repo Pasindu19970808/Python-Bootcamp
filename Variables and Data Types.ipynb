{
 "cells": [
  {
   "cell_type": "markdown",
   "id": "5cdc4320",
   "metadata": {},
   "source": [
    "## Variables"
   ]
  },
  {
   "cell_type": "markdown",
   "id": "353bd80f",
   "metadata": {},
   "source": [
    "### Giving Names to Values"
   ]
  },
  {
   "cell_type": "code",
   "execution_count": 1,
   "id": "1b38b16f",
   "metadata": {},
   "outputs": [
    {
     "data": {
      "text/plain": [
       "314.15926"
      ]
     },
     "execution_count": 1,
     "metadata": {},
     "output_type": "execute_result"
    }
   ],
   "source": [
    "radius = 10\n",
    "(radius ** 2) * 3.1415926"
   ]
  },
  {
   "cell_type": "code",
   "execution_count": 2,
   "id": "8a2b83c5",
   "metadata": {},
   "outputs": [
    {
     "data": {
      "text/plain": [
       "314.15926"
      ]
     },
     "execution_count": 2,
     "metadata": {},
     "output_type": "execute_result"
    }
   ],
   "source": [
    "radius = 10\n",
    "area = (radius ** 2) * 3.1415926\n",
    "area"
   ]
  },
  {
   "cell_type": "markdown",
   "id": "5ae91e5c",
   "metadata": {},
   "source": [
    "### What’s in a Name?"
   ]
  },
  {
   "cell_type": "code",
   "execution_count": 3,
   "id": "4410fdd0",
   "metadata": {},
   "outputs": [
    {
     "ename": "SyntaxError",
     "evalue": "invalid syntax (<ipython-input-3-24e9fac9684a>, line 1)",
     "output_type": "error",
     "traceback": [
      "\u001b[1;36m  File \u001b[1;32m\"<ipython-input-3-24e9fac9684a>\"\u001b[1;36m, line \u001b[1;32m1\u001b[0m\n\u001b[1;33m    if = 2\u001b[0m\n\u001b[1;37m       ^\u001b[0m\n\u001b[1;31mSyntaxError\u001b[0m\u001b[1;31m:\u001b[0m invalid syntax\n"
     ]
    }
   ],
   "source": [
    "if = 2"
   ]
  },
  {
   "cell_type": "code",
   "execution_count": 4,
   "id": "ca83aa50",
   "metadata": {},
   "outputs": [
    {
     "ename": "SyntaxError",
     "evalue": "invalid syntax (<ipython-input-4-81f260bd2c61>, line 1)",
     "output_type": "error",
     "traceback": [
      "\u001b[1;36m  File \u001b[1;32m\"<ipython-input-4-81f260bd2c61>\"\u001b[1;36m, line \u001b[1;32m1\u001b[0m\n\u001b[1;33m    for = 2\u001b[0m\n\u001b[1;37m        ^\u001b[0m\n\u001b[1;31mSyntaxError\u001b[0m\u001b[1;31m:\u001b[0m invalid syntax\n"
     ]
    }
   ],
   "source": [
    "for = 2"
   ]
  },
  {
   "cell_type": "markdown",
   "id": "a23b67ec",
   "metadata": {},
   "source": [
    "## Strings and Lists"
   ]
  },
  {
   "cell_type": "markdown",
   "id": "e6a18b69",
   "metadata": {},
   "source": [
    "### From Numbers to Strings"
   ]
  },
  {
   "cell_type": "code",
   "execution_count": 5,
   "id": "38537e09",
   "metadata": {},
   "outputs": [],
   "source": [
    "name1 = \"Ben\"\n",
    "name2 = 'Jerry'"
   ]
  },
  {
   "cell_type": "code",
   "execution_count": 6,
   "id": "7f3172a8",
   "metadata": {},
   "outputs": [
    {
     "data": {
      "text/plain": [
       "'Ben'"
      ]
     },
     "execution_count": 6,
     "metadata": {},
     "output_type": "execute_result"
    }
   ],
   "source": [
    "name1"
   ]
  },
  {
   "cell_type": "code",
   "execution_count": 7,
   "id": "938fac7c",
   "metadata": {},
   "outputs": [
    {
     "data": {
      "text/plain": [
       "'Jerry'"
      ]
     },
     "execution_count": 7,
     "metadata": {},
     "output_type": "execute_result"
    }
   ],
   "source": [
    "name2"
   ]
  },
  {
   "cell_type": "code",
   "execution_count": 8,
   "id": "511f7727",
   "metadata": {},
   "outputs": [
    {
     "data": {
      "text/plain": [
       "3"
      ]
     },
     "execution_count": 8,
     "metadata": {},
     "output_type": "execute_result"
    }
   ],
   "source": [
    "len(name1)"
   ]
  },
  {
   "cell_type": "code",
   "execution_count": 9,
   "id": "1b5e452a",
   "metadata": {},
   "outputs": [
    {
     "data": {
      "text/plain": [
       "9"
      ]
     },
     "execution_count": 9,
     "metadata": {},
     "output_type": "execute_result"
    }
   ],
   "source": [
    "len(\"Hong Kong\")"
   ]
  },
  {
   "cell_type": "code",
   "execution_count": 10,
   "id": "38a529a4",
   "metadata": {},
   "outputs": [
    {
     "data": {
      "text/plain": [
       "'B'"
      ]
     },
     "execution_count": 10,
     "metadata": {},
     "output_type": "execute_result"
    }
   ],
   "source": [
    "name1[0]"
   ]
  },
  {
   "cell_type": "code",
   "execution_count": 11,
   "id": "beceaebf",
   "metadata": {},
   "outputs": [
    {
     "data": {
      "text/plain": [
       "'e'"
      ]
     },
     "execution_count": 11,
     "metadata": {},
     "output_type": "execute_result"
    }
   ],
   "source": [
    "name1[1]"
   ]
  },
  {
   "cell_type": "code",
   "execution_count": 12,
   "id": "26b324ed",
   "metadata": {},
   "outputs": [
    {
     "data": {
      "text/plain": [
       "'n'"
      ]
     },
     "execution_count": 12,
     "metadata": {},
     "output_type": "execute_result"
    }
   ],
   "source": [
    "name1[2]"
   ]
  },
  {
   "cell_type": "code",
   "execution_count": 13,
   "id": "9e38ecf4",
   "metadata": {},
   "outputs": [
    {
     "ename": "IndexError",
     "evalue": "string index out of range",
     "output_type": "error",
     "traceback": [
      "\u001b[1;31m---------------------------------------------------------------------------\u001b[0m",
      "\u001b[1;31mIndexError\u001b[0m                                Traceback (most recent call last)",
      "\u001b[1;32m<ipython-input-13-8653cc336fbd>\u001b[0m in \u001b[0;36m<module>\u001b[1;34m\u001b[0m\n\u001b[1;32m----> 1\u001b[1;33m \u001b[0mname1\u001b[0m\u001b[1;33m[\u001b[0m\u001b[1;36m3\u001b[0m\u001b[1;33m]\u001b[0m\u001b[1;33m\u001b[0m\u001b[1;33m\u001b[0m\u001b[0m\n\u001b[0m",
      "\u001b[1;31mIndexError\u001b[0m: string index out of range"
     ]
    }
   ],
   "source": [
    "name1[3]"
   ]
  },
  {
   "cell_type": "code",
   "execution_count": 10,
   "id": "43e58810",
   "metadata": {},
   "outputs": [],
   "source": [
    "mycity = \"Hong Kong\""
   ]
  },
  {
   "cell_type": "code",
   "execution_count": 15,
   "id": "502b9500",
   "metadata": {},
   "outputs": [
    {
     "data": {
      "text/plain": [
       "'Hon'"
      ]
     },
     "execution_count": 15,
     "metadata": {},
     "output_type": "execute_result"
    }
   ],
   "source": [
    "mycity[0:3]"
   ]
  },
  {
   "cell_type": "code",
   "execution_count": 16,
   "id": "89fa3172",
   "metadata": {},
   "outputs": [
    {
     "data": {
      "text/plain": [
       "'Hong'"
      ]
     },
     "execution_count": 16,
     "metadata": {},
     "output_type": "execute_result"
    }
   ],
   "source": [
    "mycity[0:4]"
   ]
  },
  {
   "cell_type": "code",
   "execution_count": 15,
   "id": "c277be26",
   "metadata": {},
   "outputs": [
    {
     "data": {
      "text/plain": [
       "'gnoK gnoH'"
      ]
     },
     "execution_count": 15,
     "metadata": {},
     "output_type": "execute_result"
    }
   ],
   "source": [
    "mycity[-1::-1]"
   ]
  },
  {
   "cell_type": "code",
   "execution_count": 16,
   "id": "fa039a4b",
   "metadata": {},
   "outputs": [
    {
     "data": {
      "text/plain": [
       "'Hn o'"
      ]
     },
     "execution_count": 16,
     "metadata": {},
     "output_type": "execute_result"
    }
   ],
   "source": [
    "mycity[0:-1:2]"
   ]
  },
  {
   "cell_type": "code",
   "execution_count": 18,
   "id": "9755263f",
   "metadata": {},
   "outputs": [
    {
     "data": {
      "text/plain": [
       "'ong Kong'"
      ]
     },
     "execution_count": 18,
     "metadata": {},
     "output_type": "execute_result"
    }
   ],
   "source": [
    "mycity[1:]"
   ]
  },
  {
   "cell_type": "code",
   "execution_count": 19,
   "id": "1b495566",
   "metadata": {},
   "outputs": [
    {
     "data": {
      "text/plain": [
       "'Hong'"
      ]
     },
     "execution_count": 19,
     "metadata": {},
     "output_type": "execute_result"
    }
   ],
   "source": [
    "mycity[:4]"
   ]
  },
  {
   "cell_type": "code",
   "execution_count": 20,
   "id": "8ef997ef",
   "metadata": {},
   "outputs": [
    {
     "data": {
      "text/plain": [
       "'yummy'"
      ]
     },
     "execution_count": 20,
     "metadata": {},
     "output_type": "execute_result"
    }
   ],
   "source": [
    "\"yum\" + \"my\""
   ]
  },
  {
   "cell_type": "code",
   "execution_count": 21,
   "id": "3a658448",
   "metadata": {},
   "outputs": [
    {
     "data": {
      "text/plain": [
       "'yumyumyum'"
      ]
     },
     "execution_count": 21,
     "metadata": {},
     "output_type": "execute_result"
    }
   ],
   "source": [
    "\"yum\" * 3"
   ]
  },
  {
   "cell_type": "markdown",
   "id": "d8cca0e3",
   "metadata": {},
   "source": [
    "### Using Negative Numbers in Slicing"
   ]
  },
  {
   "cell_type": "code",
   "execution_count": 22,
   "id": "9265cf1c",
   "metadata": {},
   "outputs": [
    {
     "data": {
      "text/plain": [
       "'g'"
      ]
     },
     "execution_count": 22,
     "metadata": {},
     "output_type": "execute_result"
    }
   ],
   "source": [
    "mycity[len(mycity)-1]"
   ]
  },
  {
   "cell_type": "code",
   "execution_count": 23,
   "id": "c9af09d5",
   "metadata": {},
   "outputs": [
    {
     "data": {
      "text/plain": [
       "'ong Kon'"
      ]
     },
     "execution_count": 23,
     "metadata": {},
     "output_type": "execute_result"
    }
   ],
   "source": [
    "mycity[1:-1]"
   ]
  },
  {
   "cell_type": "code",
   "execution_count": 24,
   "id": "4865612d",
   "metadata": {},
   "outputs": [],
   "source": [
    "mystring = \"abcdefghijklmnop\""
   ]
  },
  {
   "cell_type": "code",
   "execution_count": 25,
   "id": "e78d044a",
   "metadata": {},
   "outputs": [
    {
     "data": {
      "text/plain": [
       "'beh'"
      ]
     },
     "execution_count": 25,
     "metadata": {},
     "output_type": "execute_result"
    }
   ],
   "source": [
    "mystring[1:9:3]"
   ]
  },
  {
   "cell_type": "code",
   "execution_count": 26,
   "id": "4aa0a23d",
   "metadata": {},
   "outputs": [
    {
     "data": {
      "text/plain": [
       "'fedcb'"
      ]
     },
     "execution_count": 26,
     "metadata": {},
     "output_type": "execute_result"
    }
   ],
   "source": [
    "mystring[5:0:-1]"
   ]
  },
  {
   "cell_type": "markdown",
   "id": "bca247c0",
   "metadata": {},
   "source": [
    "### And Now to Lists..."
   ]
  },
  {
   "cell_type": "code",
   "execution_count": 27,
   "id": "19c4f362",
   "metadata": {},
   "outputs": [],
   "source": [
    "odds = [1, 3, 5, 7, 9, 11]\n",
    "friends = [\"Sam\", \"Betty\", \"Esther\", \"James\"]"
   ]
  },
  {
   "cell_type": "code",
   "execution_count": 28,
   "id": "0217be63",
   "metadata": {},
   "outputs": [],
   "source": [
    "stuff = [2, \"hello\", 2.718]"
   ]
  },
  {
   "cell_type": "code",
   "execution_count": 29,
   "id": "9e7c176d",
   "metadata": {},
   "outputs": [],
   "source": [
    "stuff = [2, \"hello\", 2.718, [1, 2, 3] ]"
   ]
  },
  {
   "cell_type": "code",
   "execution_count": 30,
   "id": "3b7deb06",
   "metadata": {},
   "outputs": [
    {
     "data": {
      "text/plain": [
       "4"
      ]
     },
     "execution_count": 30,
     "metadata": {},
     "output_type": "execute_result"
    }
   ],
   "source": [
    "len(stuff)"
   ]
  },
  {
   "cell_type": "code",
   "execution_count": 31,
   "id": "88e4e098",
   "metadata": {},
   "outputs": [
    {
     "data": {
      "text/plain": [
       "2"
      ]
     },
     "execution_count": 31,
     "metadata": {},
     "output_type": "execute_result"
    }
   ],
   "source": [
    "stuff[0]"
   ]
  },
  {
   "cell_type": "code",
   "execution_count": 32,
   "id": "5fc721df",
   "metadata": {},
   "outputs": [
    {
     "data": {
      "text/plain": [
       "'hello'"
      ]
     },
     "execution_count": 32,
     "metadata": {},
     "output_type": "execute_result"
    }
   ],
   "source": [
    "stuff[1]"
   ]
  },
  {
   "cell_type": "code",
   "execution_count": 33,
   "id": "189043f4",
   "metadata": {},
   "outputs": [
    {
     "data": {
      "text/plain": [
       "[2.718, [1, 2, 3]]"
      ]
     },
     "execution_count": 33,
     "metadata": {},
     "output_type": "execute_result"
    }
   ],
   "source": [
    "stuff[2:4]"
   ]
  },
  {
   "cell_type": "code",
   "execution_count": 34,
   "id": "75904780",
   "metadata": {},
   "outputs": [
    {
     "data": {
      "text/plain": [
       "5"
      ]
     },
     "execution_count": 34,
     "metadata": {},
     "output_type": "execute_result"
    }
   ],
   "source": [
    "len(stuff[1])"
   ]
  },
  {
   "cell_type": "code",
   "execution_count": 35,
   "id": "dac4ae9b",
   "metadata": {},
   "outputs": [
    {
     "data": {
      "text/plain": [
       "3"
      ]
     },
     "execution_count": 35,
     "metadata": {},
     "output_type": "execute_result"
    }
   ],
   "source": [
    "len(stuff[3])"
   ]
  },
  {
   "cell_type": "code",
   "execution_count": 36,
   "id": "244a4354",
   "metadata": {},
   "outputs": [],
   "source": [
    "mylist = [1, 2, 3]"
   ]
  },
  {
   "cell_type": "code",
   "execution_count": 37,
   "id": "c957a629",
   "metadata": {},
   "outputs": [
    {
     "data": {
      "text/plain": [
       "[1, 2, 3, 4, 5, 6]"
      ]
     },
     "execution_count": 37,
     "metadata": {},
     "output_type": "execute_result"
    }
   ],
   "source": [
    "mylist + [4, 5, 6]"
   ]
  },
  {
   "cell_type": "code",
   "execution_count": 38,
   "id": "34ac65c7",
   "metadata": {},
   "outputs": [
    {
     "data": {
      "text/plain": [
       "[1, 2, 3, 1, 2, 3, 1, 2, 3]"
      ]
     },
     "execution_count": 38,
     "metadata": {},
     "output_type": "execute_result"
    }
   ],
   "source": [
    "mylist * 3"
   ]
  }
 ],
 "metadata": {
  "kernelspec": {
   "display_name": "Python 3",
   "language": "python",
   "name": "python3"
  },
  "language_info": {
   "codemirror_mode": {
    "name": "ipython",
    "version": 3
   },
   "file_extension": ".py",
   "mimetype": "text/x-python",
   "name": "python",
   "nbconvert_exporter": "python",
   "pygments_lexer": "ipython3",
   "version": "3.8.8"
  }
 },
 "nbformat": 4,
 "nbformat_minor": 5
}
