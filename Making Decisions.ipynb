{
 "cells": [
  {
   "cell_type": "markdown",
   "id": "5290c062",
   "metadata": {},
   "source": [
    "## if and else"
   ]
  },
  {
   "cell_type": "code",
   "execution_count": 1,
   "id": "ae3a13ea",
   "metadata": {},
   "outputs": [],
   "source": [
    "x = 100"
   ]
  },
  {
   "cell_type": "code",
   "execution_count": 2,
   "id": "e10f0022",
   "metadata": {},
   "outputs": [
    {
     "name": "stdout",
     "output_type": "stream",
     "text": [
      "That is a big number!\n"
     ]
    }
   ],
   "source": [
    "\"\"\" Compare the value of number x and\n",
    "    indicates whether the number is big or small. \"\"\"\n",
    "\n",
    "if x >= 100:\n",
    "    print(\"That is a big number!\")\n",
    "else:\n",
    "    print(\"That is a small number.\")"
   ]
  },
  {
   "cell_type": "markdown",
   "id": "3d08acb1",
   "metadata": {},
   "source": [
    "## Using the Boolean Operators 'and', 'or', and 'not'"
   ]
  },
  {
   "cell_type": "code",
   "execution_count": 3,
   "id": "c592653c",
   "metadata": {},
   "outputs": [
    {
     "data": {
      "text/plain": [
       "True"
      ]
     },
     "execution_count": 3,
     "metadata": {},
     "output_type": "execute_result"
    }
   ],
   "source": [
    "(2 > 1) and (3 < 4)"
   ]
  },
  {
   "cell_type": "code",
   "execution_count": 4,
   "id": "a08d2d53",
   "metadata": {},
   "outputs": [
    {
     "data": {
      "text/plain": [
       "True"
      ]
     },
     "execution_count": 4,
     "metadata": {},
     "output_type": "execute_result"
    }
   ],
   "source": [
    "(\"hello\" == \"goodbye\") or (3 == 1+2)"
   ]
  },
  {
   "cell_type": "code",
   "execution_count": 5,
   "id": "7f12b890",
   "metadata": {},
   "outputs": [
    {
     "data": {
      "text/plain": [
       "True"
      ]
     },
     "execution_count": 5,
     "metadata": {},
     "output_type": "execute_result"
    }
   ],
   "source": [
    "not (3 == 4)"
   ]
  },
  {
   "cell_type": "code",
   "execution_count": 6,
   "id": "b86f7d5a",
   "metadata": {},
   "outputs": [
    {
     "data": {
      "text/plain": [
       "True"
      ]
     },
     "execution_count": 6,
     "metadata": {},
     "output_type": "execute_result"
    }
   ],
   "source": [
    "2 > 1 and 3 < 4"
   ]
  },
  {
   "cell_type": "code",
   "execution_count": 7,
   "id": "768a6656",
   "metadata": {},
   "outputs": [
    {
     "data": {
      "text/plain": [
       "True"
      ]
     },
     "execution_count": 7,
     "metadata": {},
     "output_type": "execute_result"
    }
   ],
   "source": [
    "\"hello\" == \"goodbye\" or 3 == 1+2"
   ]
  },
  {
   "cell_type": "code",
   "execution_count": 8,
   "id": "17f5b82e",
   "metadata": {},
   "outputs": [
    {
     "data": {
      "text/plain": [
       "True"
      ]
     },
     "execution_count": 8,
     "metadata": {},
     "output_type": "execute_result"
    }
   ],
   "source": [
    "not 3 == 4"
   ]
  },
  {
   "cell_type": "code",
   "execution_count": 9,
   "id": "6706c73c",
   "metadata": {},
   "outputs": [],
   "source": [
    "x = 'o'"
   ]
  },
  {
   "cell_type": "code",
   "execution_count": 10,
   "id": "8507698f",
   "metadata": {},
   "outputs": [
    {
     "data": {
      "text/plain": [
       "True"
      ]
     },
     "execution_count": 10,
     "metadata": {},
     "output_type": "execute_result"
    }
   ],
   "source": [
    "x == 'a' or x == 'e' or x == 'i' or x == 'o' or x == 'u'"
   ]
  },
  {
   "cell_type": "code",
   "execution_count": 11,
   "id": "810dc221",
   "metadata": {},
   "outputs": [
    {
     "data": {
      "text/plain": [
       "'e'"
      ]
     },
     "execution_count": 11,
     "metadata": {},
     "output_type": "execute_result"
    }
   ],
   "source": [
    "x == 'a' or 'e' or 'i' or 'o' or 'u'"
   ]
  },
  {
   "cell_type": "markdown",
   "id": "be5ffcfa",
   "metadata": {},
   "source": [
    "## Chickens and Aardvarks"
   ]
  },
  {
   "cell_type": "code",
   "execution_count": 12,
   "id": "577cda50",
   "metadata": {},
   "outputs": [],
   "source": [
    "noun = \"apple\""
   ]
  },
  {
   "cell_type": "code",
   "execution_count": 13,
   "id": "3385ffd5",
   "metadata": {},
   "outputs": [
    {
     "name": "stdout",
     "output_type": "stream",
     "text": [
      "an apple\n"
     ]
    }
   ],
   "source": [
    "\"\"\" Takes a word (noun) and prints a new string\n",
    "    that adds 'a' or 'an' as appropriate. \"\"\"\n",
    "\n",
    "if noun[0] == 'a' or noun[0] == 'e' or noun[0] == 'i' or \\\n",
    "   noun[0] == 'o' or noun[0] == 'u':\n",
    "    print(\"an \" + noun)\n",
    "else:\n",
    "    print(\"a \" + noun)"
   ]
  },
  {
   "cell_type": "code",
   "execution_count": 14,
   "id": "3810a44a",
   "metadata": {},
   "outputs": [],
   "source": [
    "x = 10\n",
    "y = 20"
   ]
  },
  {
   "cell_type": "code",
   "execution_count": 15,
   "id": "4c1f9f0c",
   "metadata": {
    "scrolled": true
   },
   "outputs": [
    {
     "name": "stdout",
     "output_type": "stream",
     "text": [
      "40\n"
     ]
    }
   ],
   "source": [
    "\"\"\" This code compares two numbers and does\n",
    "    something silly and useless. \"\"\"\n",
    "\n",
    "if x < y:\n",
    "    print(2 * y)\n",
    "elif x == y:\n",
    "    print(3 * y)\n",
    "else:\n",
    "    print(0)"
   ]
  }
 ],
 "metadata": {
  "kernelspec": {
   "display_name": "Python 3",
   "language": "python",
   "name": "python3"
  },
  "language_info": {
   "codemirror_mode": {
    "name": "ipython",
    "version": 3
   },
   "file_extension": ".py",
   "mimetype": "text/x-python",
   "name": "python",
   "nbconvert_exporter": "python",
   "pygments_lexer": "ipython3",
   "version": "3.8.8"
  }
 },
 "nbformat": 4,
 "nbformat_minor": 5
}
